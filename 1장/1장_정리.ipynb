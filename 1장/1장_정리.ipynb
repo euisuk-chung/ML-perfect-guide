{
 "metadata": {
  "language_info": {
   "codemirror_mode": {
    "name": "ipython",
    "version": 3
   },
   "file_extension": ".py",
   "mimetype": "text/x-python",
   "name": "python",
   "nbconvert_exporter": "python",
   "pygments_lexer": "ipython3",
   "version": "3.8.5-final"
  },
  "orig_nbformat": 2,
  "kernelspec": {
   "name": "python_defaultSpec_1598501863145",
   "display_name": "Python 3.8.5 64-bit ('base': conda)"
  }
 },
 "nbformat": 4,
 "nbformat_minor": 2,
 "cells": [
  {
   "cell_type": "markdown",
   "metadata": {},
   "source": [
    "## 파이썬 머신러닝/딥러닝 주요 생태계 라이브러리 정리\n",
    "- 딥러닝 : Tensorflow, Keras, Pytorch\n",
    "- 머신러닝 : Scikit-learn\n",
    "- 선형대수, 통계 : Numpy, SciPy, Math\n",
    "- 데이터 핸들링 : Pandas\n",
    "- 시각화 : Matplotlib, Seaborn, Plotly\n",
    "- 대화형 파이썬 툴 : Jupyter(notebook, lab)"
   ]
  },
  {
   "cell_type": "markdown",
   "metadata": {},
   "source": [
    "## Numpy\n",
    "- 기반 데이터 타입 : ndarray\n",
    "- 다차원 배열을 쉽게 생성하고 다양한 연산을 수행하는데 용이\n",
    "- ndarray내의 데이터 값은 숫자, 문자, bool값 모두 가능\n",
    "    - 특성상 같은 타입의 데이터만 들어갈 수 있다\n",
    "    - 속 안에 있는 데이터 타입은 `.dtype`을 이용해 확인 가능하다\n",
    "    - 타입변환의 경우는 `astype()`함수를 통해 수행할 수 있다"
   ]
  },
  {
   "cell_type": "markdown",
   "metadata": {},
   "source": [
    "`array()`: list 또는 nested list를 인자로 받아 ndarray로 변환하는 함수\n",
    "- type() : ndarray 클래스 반환\n",
    "- .shape : ndarray 형태 반환\n",
    "- .ndim : ndarray 차원반환"
   ]
  },
  {
   "cell_type": "code",
   "execution_count": 7,
   "metadata": {
    "tags": []
   },
   "outputs": [
    {
     "output_type": "stream",
     "name": "stdout",
     "text": "array1 type: <class 'numpy.ndarray'>\narray1 array 형태: (3,)\narray1 array 차원: 1\narray2 type: <class 'numpy.ndarray'>\narray2 array 형태: (1, 3)\narray2 array 차원: 2\narray3 type: <class 'numpy.ndarray'>\narray3 array 형태: (2, 3)\narray3 array 차원: 2\n"
    }
   ],
   "source": [
    "import numpy as np\n",
    "\n",
    "# 1차원 ndarray\n",
    "array1 = np.array([1,2,3])\n",
    "print('array1 type:',type(array1))\n",
    "print('array1 array 형태:',array1.shape)\n",
    "print('array1 array 차원:',array1.ndim)\n",
    "\n",
    "# 2차원 ndarray (주의!)\n",
    "array2 = np.array([[1,2,3]])\n",
    "print('array2 type:',type(array2))\n",
    "print('array2 array 형태:',array2.shape)\n",
    "print('array2 array 차원:',array2.ndim)\n",
    "\n",
    "\n",
    "# 2차원 ndarray\n",
    "array3 = np.array([[1,2,3],\n",
    "                  [2,3,4]])\n",
    "print('array3 type:',type(array3))\n",
    "print('array3 array 형태:',array3.shape)\n",
    "print('array3 array 차원:',array3.ndim)\n"
   ]
  },
  {
   "cell_type": "markdown",
   "metadata": {},
   "source": [
    "**ndarray axis 기반의 연산 수행**\n",
    "- 수업이 많은 시간을 들여 혼자 고민한 결과 다음과 같이 axis와 numpy 차원을 연상할 수 있는 좋은 방법이 떠올라서 공유해보려고 한다.\n",
    "- 고등학교 수학에서 배운, x, y, z 좌표계를 생각해보자.\n",
    "- Numpy에서는 x축은 0축, y축은 1축, z축은 2축이라고 한다. (아래 그림 참고)\n",
    "- 밑에서 소개하는 각각의 array1, array2, array3 은 1차원, 2차원, 3차원 Ndarray이고 이를 좌표계에 투영시킨 그림이다.\n",
    "\n",
    "<img src=\"img/numpy_dimension.jpg\" width=\"700\">"
   ]
  },
  {
   "cell_type": "code",
   "execution_count": 25,
   "metadata": {
    "tags": []
   },
   "outputs": [
    {
     "output_type": "stream",
     "name": "stdout",
     "text": "[1 2 3]\n형태: (3,)\n전체 : 6\n행기준 : 6\n"
    }
   ],
   "source": [
    "array1 = np.array([1,2,3])\n",
    "print(array1)\n",
    "print(\"형태:\", array1.shape)\n",
    "print(\"전체 :\", array1.sum())\n",
    "print(\"행기준 :\", array1.sum(axis=0)) # 행 기반 연산"
   ]
  },
  {
   "cell_type": "code",
   "execution_count": 64,
   "metadata": {
    "tags": []
   },
   "outputs": [
    {
     "output_type": "stream",
     "name": "stdout",
     "text": "[[1 2]\n [3 4]]\n형태: (2, 2)\n전체 : 10\n행기준 : [4 6]\n열기준 : [3 7]\n"
    }
   ],
   "source": [
    "array2 = np.array([[1,2],\n",
    "                  [3,4]])\n",
    "print(array2)\n",
    "print(\"형태:\", array2.shape)\n",
    "print(\"전체 :\", array2.sum())\n",
    "print(\"행기준 :\", array2.sum(axis=0)) # 행 기반 연산\n",
    "print(\"열기준 :\", array2.sum(axis=1)) # 열 기반 연산"
   ]
  },
  {
   "cell_type": "code",
   "execution_count": 63,
   "metadata": {
    "tags": []
   },
   "outputs": [
    {
     "output_type": "stream",
     "name": "stdout",
     "text": "[[[1 2]\n  [3 4]]\n\n [[5 6]\n  [7 8]]]\n형태: (2, 2, 2)\n전체 : 36\nX축기준 : [[ 6  8]\n [10 12]]\nY축기준 : [[ 4  6]\n [12 14]]\nZ축기준 : [[ 3  7]\n [11 15]]\n"
    }
   ],
   "source": [
    "array3 = np.array(range(1,9)).reshape([2,2,2])\n",
    "\n",
    "print(array3)\n",
    "print(\"형태:\", array3.shape)\n",
    "print(\"전체 :\", array3.sum())\n",
    "print(\"X축기준 :\", array3.sum(axis=0)) # axis=0 기반 연산\n",
    "print(\"Y축기준 :\", array3.sum(axis=1)) # axis=1 기반 연산\n",
    "print(\"Z축기준 :\", array3.sum(axis=2)) # axis=2 기반 연산"
   ]
  },
  {
   "cell_type": "code",
   "execution_count": null,
   "metadata": {},
   "outputs": [],
   "source": []
  }
 ]
}