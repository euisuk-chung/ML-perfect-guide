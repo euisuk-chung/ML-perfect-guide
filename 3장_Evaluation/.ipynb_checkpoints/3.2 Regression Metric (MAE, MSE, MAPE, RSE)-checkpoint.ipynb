{
 "cells": [
  {
   "cell_type": "markdown",
   "metadata": {},
   "source": [
    "## 성능지표\n",
    "### 회귀\n",
    "- mean-squared error (MSE)\n",
    "- root-mean-squared error (RMSE)\n",
    "- mean-absolute error (MAE)\n",
    "- mean-absolute percentage error (MAPE)\n",
    "- relative-squared error (RSE)\n",
    "- root-relative-squared error (RRSE)\n",
    "- relative-absolute error (RAE)\n",
    "- correlation coefficient \n",
    "---\n",
    "\n",
    "### 분류\n",
    "- 정확도 Accuracy\n",
    "- 오차행렬 Confusion Matrix\n",
    "- 정밀도 Precision\n",
    "- 재현율 Recall\n",
    "- F1 Score\n",
    "- ROC AUC"
   ]
  }
 ],
 "metadata": {
  "kernelspec": {
   "display_name": "Python 3",
   "language": "python",
   "name": "python3"
  },
  "language_info": {
   "codemirror_mode": {
    "name": "ipython",
    "version": 3
   },
   "file_extension": ".py",
   "mimetype": "text/x-python",
   "name": "python",
   "nbconvert_exporter": "python",
   "pygments_lexer": "ipython3",
   "version": "3.6.10"
  }
 },
 "nbformat": 4,
 "nbformat_minor": 2
}
