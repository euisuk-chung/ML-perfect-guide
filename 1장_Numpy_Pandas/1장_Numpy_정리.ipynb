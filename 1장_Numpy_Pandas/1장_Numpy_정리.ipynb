{
 "metadata": {
  "language_info": {
   "codemirror_mode": {
    "name": "ipython",
    "version": 3
   },
   "file_extension": ".py",
   "mimetype": "text/x-python",
   "name": "python",
   "nbconvert_exporter": "python",
   "pygments_lexer": "ipython3",
   "version": "3.8.5-final"
  },
  "orig_nbformat": 2,
  "kernelspec": {
   "name": "python_defaultSpec_1598590643236",
   "display_name": "Python 3.8.5 64-bit ('base': conda)"
  }
 },
 "nbformat": 4,
 "nbformat_minor": 2,
 "cells": [
  {
   "cell_type": "markdown",
   "metadata": {},
   "source": [
    "## 파이썬 머신러닝/딥러닝 주요 생태계 라이브러리 정리\n",
    "- 딥러닝 : Tensorflow, Keras, Pytorch\n",
    "- 머신러닝 : Scikit-learn\n",
    "- 선형대수, 통계 : Numpy, SciPy, Math\n",
    "- 데이터 핸들링 : Pandas\n",
    "- 시각화 : Matplotlib, Seaborn, Plotly\n",
    "- 대화형 파이썬 툴 : Jupyter(notebook, lab)"
   ]
  },
  {
   "cell_type": "markdown",
   "metadata": {},
   "source": [
    "## Numpy\n",
    "- 기반 데이터 타입 : ndarray\n",
    "- 다차원 배열을 쉽게 생성하고 다양한 연산을 수행하는데 용이\n",
    "- ndarray내의 데이터 값은 숫자, 문자, bool값 모두 가능\n",
    "    - 특성상 같은 타입의 데이터만 들어갈 수 있다\n",
    "    - 속 안에 있는 데이터 타입은 `.dtype`을 이용해 확인 가능하다\n",
    "    - 타입변환의 경우는 `astype()`함수를 통해 수행할 수 있다"
   ]
  },
  {
   "cell_type": "markdown",
   "metadata": {},
   "source": [
    "### ndarray 의 형태(shape)와 차원\n",
    "\n",
    "`array()`: list 또는 nested list를 인자로 받아 ndarray로 변환하는 함수\n",
    "- type() : ndarray 클래스 반환\n",
    "- .shape : ndarray 형태 반환\n",
    "- .ndim : ndarray 차원반환"
   ]
  },
  {
   "cell_type": "code",
   "execution_count": 2,
   "metadata": {
    "tags": []
   },
   "outputs": [
    {
     "output_type": "stream",
     "name": "stdout",
     "text": "array1 type: <class 'numpy.ndarray'>\narray1 array 형태: (3,)\narray1 array 차원: 1\narray2 type: <class 'numpy.ndarray'>\narray2 array 형태: (1, 3)\narray2 array 차원: 2\narray3 type: <class 'numpy.ndarray'>\narray3 array 형태: (2, 3)\narray3 array 차원: 2\n"
    }
   ],
   "source": [
    "import numpy as np\n",
    "\n",
    "# 1차원 ndarray\n",
    "array1 = np.array([1,2,3])\n",
    "print('array1 type:',type(array1))\n",
    "print('array1 array 형태:',array1.shape)\n",
    "print('array1 array 차원:',array1.ndim)\n",
    "\n",
    "# 2차원 ndarray (주의!)\n",
    "array2 = np.array([[1,2,3]])\n",
    "print('array2 type:',type(array2))\n",
    "print('array2 array 형태:',array2.shape)\n",
    "print('array2 array 차원:',array2.ndim)\n",
    "\n",
    "\n",
    "# 2차원 ndarray\n",
    "array3 = np.array([[1,2,3],\n",
    "                  [2,3,4]])\n",
    "print('array3 type:',type(array3))\n",
    "print('array3 array 형태:',array3.shape)\n",
    "print('array3 array 차원:',array3.ndim)\n"
   ]
  },
  {
   "cell_type": "markdown",
   "metadata": {},
   "source": [
    "### ndarray axis 기반의 연산 수행\n",
    "\n",
    "- 수업이 많은 시간을 들여 혼자 고민한 결과 다음과 같이 axis와 numpy 차원을 연상할 수 있는 좋은 방법이 떠올라서 공유해보려고 한다.\n",
    "- 고등학교 수학에서 배운, x, y, z 좌표계를 생각해보자.\n",
    "- Numpy에서는 x축은 0축, y축은 1축, z축은 2축이라고 한다. (아래 그림 참고)\n",
    "- 밑에서 소개하는 각각의 array1, array2, array3 은 1차원, 2차원, 3차원 Ndarray이고 이를 좌표계에 투영시킨 그림이다.\n",
    "\n",
    "<img src=\"img/numpy_dimension.jpg\" width=\"700\">"
   ]
  },
  {
   "cell_type": "code",
   "execution_count": 3,
   "metadata": {
    "tags": []
   },
   "outputs": [
    {
     "output_type": "stream",
     "name": "stdout",
     "text": "[1 2 3]\n형태: (3,)\n전체 : 6\n행기준 : 6\n"
    }
   ],
   "source": [
    "array1 = np.array([1,2,3])\n",
    "print(array1)\n",
    "print(\"형태:\", array1.shape)\n",
    "print(\"전체 :\", array1.sum())\n",
    "print(\"행기준 :\", array1.sum(axis=0)) # 행 기반 연산"
   ]
  },
  {
   "cell_type": "code",
   "execution_count": 4,
   "metadata": {
    "tags": []
   },
   "outputs": [
    {
     "output_type": "stream",
     "name": "stdout",
     "text": "[[1 2]\n [3 4]]\n형태: (2, 2)\n전체 : 10\n행기준 : [4 6]\n열기준 : [3 7]\n"
    }
   ],
   "source": [
    "array2 = np.array([[1,2],\n",
    "                  [3,4]])\n",
    "print(array2)\n",
    "print(\"형태:\", array2.shape)\n",
    "print(\"전체 :\", array2.sum())\n",
    "print(\"행기준 :\", array2.sum(axis=0)) # 행 기반 연산\n",
    "print(\"열기준 :\", array2.sum(axis=1)) # 열 기반 연산"
   ]
  },
  {
   "cell_type": "code",
   "execution_count": 5,
   "metadata": {
    "tags": []
   },
   "outputs": [
    {
     "output_type": "stream",
     "name": "stdout",
     "text": "[[[1 2]\n  [3 4]]\n\n [[5 6]\n  [7 8]]]\n형태: (2, 2, 2)\n전체 : 36\nX축기준 : [[ 6  8]\n [10 12]]\nY축기준 : [[ 4  6]\n [12 14]]\nZ축기준 : [[ 3  7]\n [11 15]]\n"
    }
   ],
   "source": [
    "array3 = np.array(range(1,9)).reshape([2,2,2])\n",
    "\n",
    "print(array3)\n",
    "print(\"형태:\", array3.shape)\n",
    "print(\"전체 :\", array3.sum())\n",
    "print(\"X축기준 :\", array3.sum(axis=0)) # axis=0 기반 연산\n",
    "print(\"Y축기준 :\", array3.sum(axis=1)) # axis=1 기반 연산\n",
    "print(\"Z축기준 :\", array3.sum(axis=2)) # axis=2 기반 연산"
   ]
  },
  {
   "cell_type": "markdown",
   "metadata": {},
   "source": [
    "### ndarray를 편리하게 생성하기 \n",
    "- arange : 숫자 배열로 ndarray 생성\n",
    "- zeros : 0 배열로 ndarray 생성\n",
    "- ones : 1 배열로 ndarray 생성\n",
    "---\n",
    "- reshape : 지정해준 형태로 배열을 조정\n",
    "    - *참고* reshape(-1,n)을 쓰게 되면 열 축은 n으로 고정되고, 행 축은 가변적이라는 의미"
   ]
  },
  {
   "cell_type": "code",
   "execution_count": 9,
   "metadata": {
    "tags": []
   },
   "outputs": [
    {
     "output_type": "stream",
     "name": "stdout",
     "text": "[0 1 2 3 4 5 6 7 8 9]\nint32 (10,) \n\n[[0 0]\n [0 0]\n [0 0]]\nint32 (3, 2) \n\n[[1. 1.]\n [1. 1.]\n [1. 1.]]\nfloat64 (3, 2)\n"
    }
   ],
   "source": [
    "# arange\n",
    "sequence_array = np.arange(10)\n",
    "print(sequence_array)\n",
    "print(sequence_array.dtype, sequence_array.shape,'\\n')\n",
    "\n",
    "# zeros\n",
    "zero_array = np.zeros((3,2),dtype='int32')\n",
    "print(zero_array)\n",
    "print(zero_array.dtype, zero_array.shape,'\\n')\n",
    "\n",
    "# ones\n",
    "one_array = np.ones((3,2))\n",
    "print(one_array)\n",
    "print(one_array.dtype, one_array.shape)"
   ]
  },
  {
   "cell_type": "code",
   "execution_count": 10,
   "metadata": {
    "tags": []
   },
   "outputs": [
    {
     "output_type": "stream",
     "name": "stdout",
     "text": "array1:\n [0 1 2 3 4 5 6 7 8 9]\narray2:\n [[0 1 2 3 4]\n [5 6 7 8 9]]\narray3:\n [[0 1 2 3 4]\n [5 6 7 8 9]]\n"
    }
   ],
   "source": [
    "# reshape\n",
    "array1 = np.arange(10)\n",
    "print('array1:\\n', array1)\n",
    "\n",
    "array2 = array1.reshape(2,5)\n",
    "print('array2:\\n',array2)\n",
    "\n",
    "array3 = array1.reshape(-1,5)\n",
    "print('array3:\\n',array3)"
   ]
  },
  {
   "cell_type": "markdown",
   "metadata": {},
   "source": [
    "**(참고)** `reshape()`는 (-1, 1), (-1,)와 같은 형태로 주로 사용\n",
    "- 머신러닝 API에서 고정된 차원의 값을 input으로 받는데가 많음\n",
    "- .reshape(-1, 1) : 1차원 ndarray를 2차원으로 변환하되, 컬럼axis크기는 반드시 1이여야 함.\n",
    "- .reshape(-1, ) : 2차원 ndarray를 1차원으로 변환 "
   ]
  },
  {
   "cell_type": "code",
   "execution_count": 12,
   "metadata": {
    "tags": []
   },
   "outputs": [
    {
     "output_type": "stream",
     "name": "stdout",
     "text": "array2d_1 shape: (5, 1)\narray2d_1:\n [[0]\n [1]\n [2]\n [3]\n [4]]\n\n\narray1d shape: (5,)\narray1d:\n [0 1 2 3 4]\n"
    }
   ],
   "source": [
    "# 1차원 ndarray를 2차원으로 또는 2차원 ndarray를 1차원으로 변환 시 사용. \n",
    "array1 = np.arange(5)\n",
    "\n",
    "# .reshape(-1, 1) \n",
    "array2d_1 = array1.reshape(-1, 1)\n",
    "print(\"array2d_1 shape:\", array2d_1.shape)\n",
    "print(\"array2d_1:\\n\",array2d_1)\n",
    "print(\"\\n\")\n",
    "\n",
    "# .reshape(-1, ) \n",
    "array1d = array2d_1.reshape(-1,)\n",
    "print(\"array1d shape:\", array1d.shape)\n",
    "print(\"array1d:\\n\",array1d)"
   ]
  },
  {
   "cell_type": "markdown",
   "metadata": {},
   "source": [
    "### INDEXING\n",
    "- `단일값 추출`, index를 이용하여 특정 위치에 있는 단일값 추출\n",
    "- `slicing`, 연속된 index상의 ndarray를 추출하는 방식\n",
    "- `fancy indexing`, 일정한 인덱싱 집합을 지정해 해당 위치에 있는 ndarray 반환\n",
    "- `boolean indexing`, 특정 조건에 해당하는지 여부인 TRUE 값을 기준으로 ndarray 반환"
   ]
  },
  {
   "cell_type": "code",
   "execution_count": 16,
   "metadata": {
    "tags": []
   },
   "outputs": [
    {
     "output_type": "stream",
     "name": "stdout",
     "text": "[1 2 3 4 5 6 7 8 9]\n첫번째 index 가리키는 값: 1\n마지막 index 가리키는 값: 9\n[[1 2 3]\n [4 5 6]\n [7 8 9]]\n(row=0,col=0) index 가리키는 값: 1\n(row=0,col=1) index 가리키는 값: 2\n(row=1,col=0) index 가리키는 값: 4\n(row=2,col=2) index 가리키는 값: 9\n"
    }
   ],
   "source": [
    "# 단일값 추출\n",
    "# 1차원\n",
    "array1d = np.arange(start=1, stop=10)\n",
    "print(array1d)\n",
    "print('첫번째 index 가리키는 값:', array1d[0] )\n",
    "print('마지막 index 가리키는 값:', array1d[-1] )\n",
    "\n",
    "# 2차원\n",
    "array2d = array1d.reshape(3,3)\n",
    "print(array2d)\n",
    "\n",
    "print('(row=0,col=0) index 가리키는 값:', array2d[0,0] )\n",
    "print('(row=0,col=1) index 가리키는 값:', array2d[0,1] )\n",
    "print('(row=1,col=0) index 가리키는 값:', array2d[1,0] )\n",
    "print('(row=2,col=2) index 가리키는 값:', array2d[2,2] )"
   ]
  },
  {
   "cell_type": "code",
   "execution_count": 25,
   "metadata": {
    "tags": []
   },
   "outputs": [
    {
     "output_type": "stream",
     "name": "stdout",
     "text": "1차원 원본: \n [1 2 3 4 5 6 7 8 9]\narray1[0:3]: \n [1 2 3]\narray1[:]: \n [1 2 3 4 5 6 7 8 9]\n--------------------\n2차원 원본: \n [[1 2 3]\n [4 5 6]\n [7 8 9]]\narray2d[0:2, 0:2]: \n [[1 2]\n [4 5]]\narray2d[:, :]: \n [[1 2 3]\n [4 5 6]\n [7 8 9]]\narray2d[:2, 1:]: \n [[2 3]\n [5 6]]\narray2d[:2, 0]: \n [1 4]\n"
    }
   ],
   "source": [
    "# Slicing\n",
    "# 1차원\n",
    "array1 = np.arange(start=1, stop=10)\n",
    "print('1차원 원본: \\n', array1)\n",
    "array2 = array1[0:3]\n",
    "print('array1[0:3]: \\n', array2)\n",
    "array3 = array1[:]\n",
    "print('array1[:]: \\n', array3)\n",
    "print('--------------------')\n",
    "\n",
    "# 2차원\n",
    "array1d = np.arange(start=1, stop=10)\n",
    "array2d = array1d.reshape(3,3)\n",
    "print('2차원 원본: \\n',array2d)\n",
    "print('array2d[0:2, 0:2]: \\n', array2d[0:2, 0:2])\n",
    "print('array2d[:, :]: \\n', array2d[:, :])\n",
    "print('array2d[:2, 1:]: \\n', array2d[:2, 1:])\n",
    "print('array2d[:2, 0]: \\n', array2d[:2, 0])"
   ]
  },
  {
   "cell_type": "code",
   "execution_count": 27,
   "metadata": {
    "tags": []
   },
   "outputs": [
    {
     "output_type": "stream",
     "name": "stdout",
     "text": "[[1 2 3]\n [4 5 6]\n [7 8 9]]\narray2d[[0,1], 2] >>>>>  [3, 6]\narray2d[[0,2], 0:2] >>>>>  [[1, 2], [7, 8]]\narray2d[[0,1]] >>>>>  [[1, 2, 3], [4, 5, 6]]\n"
    }
   ],
   "source": [
    "# Fancy Indexing\n",
    "array1d = np.arange(start=1, stop=10)\n",
    "array2d = array1d.reshape(3,3)\n",
    "print(array2d)\n",
    "\n",
    "array3 = array2d[[0,1], 2]\n",
    "print('array2d[[0,1], 2] >>>>> ',array3.tolist())\n",
    "\n",
    "array4 = array2d[[0,2], 0:2]\n",
    "print('array2d[[0,2], 0:2] >>>>> ',array4.tolist())\n",
    "\n",
    "array5 = array2d[[0,1]]\n",
    "print('array2d[[0,1]] >>>>> ',array5.tolist())"
   ]
  },
  {
   "cell_type": "code",
   "execution_count": 31,
   "metadata": {
    "tags": []
   },
   "outputs": [
    {
     "output_type": "stream",
     "name": "stdout",
     "text": "[1 2 3 4 5 6 7 8 9]\n[False  True False  True False  True False  True False]\n짝수인 불린 인덱싱 결과 값 : [2 4 6 8]\n"
    }
   ],
   "source": [
    "# Boolean Indexing\n",
    "# [ ] 안에 \"짝수\"(조건) Boolean indexing을 적용 \n",
    "print(array1d)\n",
    "print(array1d%2==0)\n",
    "array3 = array1d[array1d%2==0]\n",
    "print('짝수인 불린 인덱싱 결과 값 :', array3)"
   ]
  },
  {
   "cell_type": "markdown",
   "metadata": {},
   "source": [
    "### 정렬\n",
    "- `sort()`\n",
    "    - **np.sort()** : 원 행렬은 그대로 유지한 채 원 행렬의 정렬된 행렬을 반환\n",
    "        - 2차원 이상인 경우, axis 조건을 주어 방향으로 정렬을 시킬 수 있다.\n",
    "    - **ndarray.sort()** : 원 행렬 자체를 정렬한 형태로 변환하며 반환 값은 None"
   ]
  },
  {
   "cell_type": "code",
   "execution_count": 37,
   "metadata": {
    "tags": []
   },
   "outputs": [
    {
     "output_type": "stream",
     "name": "stdout",
     "text": "원본 행렬: \n [3 1 9 5]\nnp.sort( ) 호출 후 반환된 정렬 행렬:\n [1 3 5 9]\nnp.sort( ) 호출 후 원본 행렬:\n [3 1 9 5]\n내림차순으로 정렬: [9 5 3 1]\norg_array.sort( ) 호출 후 반환된 행렬:\n None\norg_array.sort( ) 호출 후 원본 행렬:\n [1 3 5 9]\n"
    }
   ],
   "source": [
    "org_array = np.array([ 3, 1, 9, 5]) \n",
    "print('원본 행렬: \\n', org_array)\n",
    "\n",
    "# np.sort( )로 정렬 \n",
    "sort_array1 = np.sort(org_array)\n",
    "print ('np.sort( ) 호출 후 반환된 정렬 행렬:\\n', sort_array1) \n",
    "print('np.sort( ) 호출 후 원본 행렬:\\n', org_array)\n",
    "sort_array1_desc = np.sort(org_array)[::-1]\n",
    "print ('내림차순으로 정렬:', sort_array1_desc) \n",
    "\n",
    "# ndarray.sort( )로 정렬\n",
    "sort_array2 = org_array.sort()\n",
    "org_array.sort()\n",
    "print('org_array.sort( ) 호출 후 반환된 행렬:\\n', sort_array2)\n",
    "print('org_array.sort( ) 호출 후 원본 행렬:\\n', org_array)"
   ]
  },
  {
   "cell_type": "markdown",
   "metadata": {
    "tags": []
   },
   "source": [
    "- `argsort()` : 원본 행렬을 정렬할때 행렬의 원래 인덱스를 필요로 할 때 np.argsort()를 이용한다. 반환값은 원본 행렬 인덱스의 ndarray이다.(META data mapping 용도))"
   ]
  },
  {
   "cell_type": "code",
   "execution_count": 40,
   "metadata": {
    "tags": []
   },
   "outputs": [
    {
     "output_type": "stream",
     "name": "stdout",
     "text": "원본 [3 1 9 5]\n오름차순 [1 3 5 9]\n내림차순 [9 5 3 1]\n오름차순 정렬 시 원본 행렬의 인덱스: [1 0 3 2]\n내림차순 정렬 시 원본 행렬의 인덱스: [2 3 0 1]\n"
    }
   ],
   "source": [
    "org_array = np.array([ 3, 1, 9, 5]) \n",
    "print('원본',org_array)\n",
    "print('오름차순',np.sort(org_array))\n",
    "print('내림차순',np.sort(org_array)[::-1])\n",
    "\n",
    "# argsort\n",
    "sort_indices = np.argsort(org_array)\n",
    "sort_indices_desc = np.argsort(org_array)[::-1]\n",
    "print('오름차순 정렬 시 원본 행렬의 인덱스:', sort_indices)\n",
    "print('내림차순 정렬 시 원본 행렬의 인덱스:', sort_indices_desc)"
   ]
  },
  {
   "cell_type": "code",
   "execution_count": 42,
   "metadata": {
    "tags": []
   },
   "outputs": [
    {
     "output_type": "stream",
     "name": "stdout",
     "text": "sort indices: [3 1 4 2 0]\n['Kate' 'Mike' 'Samuel' 'Sarah' 'John']\n[98 95 88 84 78]\n"
    }
   ],
   "source": [
    "name_array=np.array(['John', 'Mike', 'Sarah', 'Kate', 'Samuel'])\n",
    "score_array=np.array([78, 95, 84, 98, 88])\n",
    "\n",
    "# score_array의 정렬된 값에 해당하는 원본 행렬 위치 인덱스 반환하고 이를 이용하여 name_array에서 name값 추출.  \n",
    "sort_indices = np.argsort(score_array)[::-1]\n",
    "print(\"sort indices:\", sort_indices)\n",
    "\n",
    "name_array_sort = name_array[sort_indices]\n",
    "score_array_sort = score_array[sort_indices]\n",
    "\n",
    "print(name_array_sort)\n",
    "print(score_array_sort)"
   ]
  },
  {
   "cell_type": "markdown",
   "metadata": {},
   "source": [
    "### 기본 선형대수 연산\n",
    "- np.dot, 행렬 곱\n",
    "- np.transpose, 행렬 전치"
   ]
  },
  {
   "cell_type": "code",
   "execution_count": 43,
   "metadata": {
    "tags": []
   },
   "outputs": [
    {
     "output_type": "stream",
     "name": "stdout",
     "text": "행렬 내적 결과:\n [[ 58  64]\n [139 154]]\n"
    }
   ],
   "source": [
    "A = np.array([[1, 2, 3],\n",
    "              [4, 5, 6]])\n",
    "B = np.array([[7, 8],\n",
    "              [9, 10],\n",
    "              [11, 12]])\n",
    "\n",
    "dot_product = np.dot(A, B)\n",
    "print('행렬 내적 결과:\\n', dot_product)"
   ]
  },
  {
   "cell_type": "code",
   "execution_count": 44,
   "metadata": {
    "tags": []
   },
   "outputs": [
    {
     "output_type": "stream",
     "name": "stdout",
     "text": "A의 전치 행렬:\n [[1 3]\n [2 4]]\n"
    }
   ],
   "source": [
    "A = np.array([[1, 2],\n",
    "              [3, 4]])\n",
    "transpose_mat = np.transpose(A)\n",
    "print('A의 전치 행렬:\\n', transpose_mat)"
   ]
  },
  {
   "cell_type": "code",
   "execution_count": null,
   "metadata": {},
   "outputs": [],
   "source": []
  }
 ]
}